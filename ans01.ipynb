{
 "cells": [
  {
   "cell_type": "code",
   "execution_count": 1,
   "metadata": {},
   "outputs": [],
   "source": [
    "import json\n",
    "\"\"\"\n",
    "Please use Python 3 to answer question\n",
    "Welcome to answer with unit testing code if you can\n",
    " \n",
    "After you finish coding, please push to your GitHub account and share the link with us.\n",
    "\"\"\"\n",
    " \n",
    "# Please write a function to reverse the following nested input value into output value\n",
    " \n",
    "# Input:\n",
    "input_value = {\n",
    "  'hired': {\n",
    "    'be': {\n",
    "      'to': {\n",
    "        'deserve': 'I'\n",
    "      }\n",
    "    }\n",
    "  }\n",
    "}\n",
    "# Output:\n",
    "# output_value = {\n",
    "#   'I': {\n",
    "#     'deserve': {\n",
    "#       'to': {\n",
    "#          'be': 'hired'\n",
    "#       }\n",
    "#     }\n",
    "#   }\n",
    "# }"
   ]
  },
  {
   "cell_type": "code",
   "execution_count": 2,
   "metadata": {},
   "outputs": [],
   "source": [
    "def nested(input_value):\n",
    "    output_value = ''\n",
    "    for one in input_value.keys():\n",
    "        for two in input_value[one].keys():\n",
    "            for three in input_value[one][two].keys():\n",
    "                for four in input_value[one][two][three].keys():\n",
    "                    five = input_value[one][two][three][four]\n",
    "                    output_value = {five: {four: {three: {two: one}}}}\n",
    "    return json.dumps(output_value)"
   ]
  },
  {
   "cell_type": "code",
   "execution_count": 3,
   "metadata": {},
   "outputs": [],
   "source": [
    "output_value = nested(input_value)"
   ]
  },
  {
   "cell_type": "code",
   "execution_count": 4,
   "metadata": {},
   "outputs": [
    {
     "data": {
      "text/plain": [
       "'{\"I\": {\"deserve\": {\"to\": {\"be\": \"hired\"}}}}'"
      ]
     },
     "execution_count": 4,
     "metadata": {},
     "output_type": "execute_result"
    }
   ],
   "source": [
    "output_value"
   ]
  },
  {
   "cell_type": "code",
   "execution_count": null,
   "metadata": {},
   "outputs": [],
   "source": []
  },
  {
   "cell_type": "code",
   "execution_count": null,
   "metadata": {},
   "outputs": [],
   "source": []
  }
 ],
 "metadata": {
  "kernelspec": {
   "display_name": "Python 3",
   "language": "python",
   "name": "python3"
  },
  "language_info": {
   "codemirror_mode": {
    "name": "ipython",
    "version": 3
   },
   "file_extension": ".py",
   "mimetype": "text/x-python",
   "name": "python",
   "nbconvert_exporter": "python",
   "pygments_lexer": "ipython3",
   "version": "3.8.3"
  }
 },
 "nbformat": 4,
 "nbformat_minor": 4
}
